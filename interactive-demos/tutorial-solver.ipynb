{
 "cells": [
  {
   "cell_type": "markdown",
   "id": "discrete-ethiopia",
   "metadata": {},
   "source": [
    "# Solver tutorial\n",
    "\n",
    "In this notebook, you will learn how to replace the default network solver with the solver of your choice following below 4 steps.\n",
    "\n",
    "(0. Preparation of this notebook)\n",
    "1. Setting up the training environment \n",
    "2. Create a SolverBuilder\n",
    "3. Setup the DDPG algorithm\n",
    "4. Run the training"
   ]
  },
  {
   "cell_type": "markdown",
   "id": "killing-cable",
   "metadata": {},
   "source": [
    "## Preparation\n",
    "\n",
    "Let's start by first installing nnabla-rl and importing required packages for training."
   ]
  },
  {
   "cell_type": "code",
   "execution_count": null,
   "id": "corresponding-traveler",
   "metadata": {},
   "outputs": [],
   "source": [
    "!pip install nnabla-rl"
   ]
  },
  {
   "cell_type": "code",
   "execution_count": null,
   "id": "cleared-berlin",
   "metadata": {},
   "outputs": [],
   "source": [
    "import gym\n",
    "import nnabla as nn\n",
    "from nnabla import functions as NF\n",
    "from nnabla import parametric_functions as NPF\n",
    "from nnabla import solvers as NS\n",
    "\n",
    "import nnabla_rl\n",
    "import nnabla_rl.algorithms as A\n",
    "import nnabla_rl.writers as W\n",
    "import nnabla_rl.functions as RF\n",
    "from nnabla_rl.builders import SolverBuilder\n",
    "from nnabla_rl.environments.environment_info import EnvironmentInfo\n",
    "from nnabla_rl.models.q_function import QFunction\n",
    "from nnabla_rl.environments.wrappers import NumpyFloat32Env, ScreenRenderEnv\n",
    "from nnabla_rl.utils.evaluator import EpisodicEvaluator\n",
    "from nnabla_rl.utils.reproductions import set_global_seed"
   ]
  },
  {
   "cell_type": "code",
   "execution_count": null,
   "id": "comparative-finding",
   "metadata": {},
   "outputs": [],
   "source": [
    "!bash package_install.sh"
   ]
  },
  {
   "cell_type": "code",
   "execution_count": null,
   "id": "decimal-albert",
   "metadata": {},
   "outputs": [],
   "source": [
    "%run ./colab_utils.py"
   ]
  },
  {
   "cell_type": "code",
   "execution_count": null,
   "id": "asian-fifty",
   "metadata": {},
   "outputs": [],
   "source": [
    "nn.clear_parameters()\n",
    "nnabla_rl.run_on_gpu(0)"
   ]
  },
  {
   "cell_type": "markdown",
   "id": "english-greensboro",
   "metadata": {},
   "source": [
    "## Setting up the training environment\n",
    "\n",
    "Set up the \"Pendulum\" environment provided by the OpenAI Gym."
   ]
  },
  {
   "cell_type": "code",
   "execution_count": null,
   "id": "multiple-debate",
   "metadata": {},
   "outputs": [],
   "source": [
    "def build_env(env_name):\n",
    "    env = gym.make(env_name)\n",
    "    env = NumpyFloat32Env(env)\n",
    "    env = ScreenRenderEnv(env)  # for rendering screen\n",
    "    env.seed(0)\n",
    "    return env"
   ]
  },
  {
   "cell_type": "code",
   "execution_count": null,
   "id": "ongoing-genesis",
   "metadata": {},
   "outputs": [],
   "source": [
    "env_name = \"Pendulum-v0\"\n",
    "env = build_env(env_name)\n",
    "set_global_seed(0)"
   ]
  },
  {
   "cell_type": "markdown",
   "id": "higher-terrain",
   "metadata": {},
   "source": [
    "## Create a SolverBuilder\n",
    "\n",
    "To replace the default solver, you'll need to create a SolverBuilder.  \n",
    "We will replace the default Adam solver (the default solver of DDPG algorithm) with RMSprop in this example."
   ]
  },
  {
   "cell_type": "code",
   "execution_count": null,
   "id": "built-advancement",
   "metadata": {},
   "outputs": [],
   "source": [
    "class MySolverBuilder(SolverBuilder):\n",
    "    def build_solver(self,  # type: ignore[override]\n",
    "                     env_info: EnvironmentInfo,\n",
    "                     algorithm_config: A.DDPGConfig,\n",
    "                     **kwargs) -> nn.solver.Solver:\n",
    "        return NS.RMSprop(lr=algorithm_config.learning_rate)  # configuration depends on the algorithm to use"
   ]
  },
  {
   "cell_type": "markdown",
   "id": "integrated-latest",
   "metadata": {},
   "source": [
    "## Setup the DDPG algorithm\n",
    "\n",
    "We are almost ready to start the training. Finally, let's set up the DDPG algorithm.  \n",
    "Here, we provide the SolverBuilder that we just implemented to replace the default solver. "
   ]
  },
  {
   "cell_type": "code",
   "execution_count": null,
   "id": "familiar-behalf",
   "metadata": {},
   "outputs": [],
   "source": [
    "config = A.DDPGConfig(start_timesteps=200)"
   ]
  },
  {
   "cell_type": "code",
   "execution_count": null,
   "id": "available-laugh",
   "metadata": {},
   "outputs": [],
   "source": [
    "ddpg = A.DDPG(\n",
    "    env_or_env_info=env,\n",
    "    config=config,\n",
    "    critic_solver_builder=MySolverBuilder(),\n",
    "    actor_solver_builder=MySolverBuilder()\n",
    ")"
   ]
  },
  {
   "cell_type": "markdown",
   "id": "extended-automation",
   "metadata": {},
   "source": [
    "## Preparation of Hook (optional)\n",
    "\n",
    "We append RenderHook to visually check the training status. This step is optional."
   ]
  },
  {
   "cell_type": "code",
   "execution_count": null,
   "id": "nonprofit-clearing",
   "metadata": {},
   "outputs": [],
   "source": [
    "render_hook = RenderHook(env=env)"
   ]
  },
  {
   "cell_type": "code",
   "execution_count": null,
   "id": "respected-mercury",
   "metadata": {},
   "outputs": [],
   "source": [
    "ddpg.set_hooks([render_hook])"
   ]
  },
  {
   "cell_type": "markdown",
   "id": "comparable-seating",
   "metadata": {},
   "source": [
    "## Run the training\n",
    "\n",
    "The training takes time (10-20 min).  \n",
    "After 10-20 min, you will see the agent swinging up the pendulum."
   ]
  },
  {
   "cell_type": "code",
   "execution_count": null,
   "id": "polar-hunter",
   "metadata": {
    "scrolled": true
   },
   "outputs": [],
   "source": [
    "ddpg.train(env, total_iterations=50000)"
   ]
  }
 ],
 "metadata": {
  "kernelspec": {
   "display_name": "Python 3",
   "language": "python",
   "name": "python3"
  },
  "language_info": {
   "codemirror_mode": {
    "name": "ipython",
    "version": 3
   },
   "file_extension": ".py",
   "mimetype": "text/x-python",
   "name": "python",
   "nbconvert_exporter": "python",
   "pygments_lexer": "ipython3",
   "version": "3.6.12"
  }
 },
 "nbformat": 4,
 "nbformat_minor": 5
}
