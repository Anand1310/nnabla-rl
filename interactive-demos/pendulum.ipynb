{
 "cells": [
  {
   "cell_type": "markdown",
   "metadata": {},
   "source": [
    "# Simple reinforcement learning training example to get started\n",
    "\n",
    "In this notebook, you will briefly see how to train a reinforcement learning agent using nnabla-rl in 3 steps.\n",
    "\n",
    "(0. Preparation)\n",
    "1. Setting up the training environment \n",
    "2. Setup the training algorithm\n",
    "3. Run the training"
   ]
  },
  {
   "cell_type": "markdown",
   "metadata": {},
   "source": [
    "## Preparation\n",
    "\n",
    "Let's start by first installing nnabla-rl and importing required packages for training."
   ]
  },
  {
   "cell_type": "code",
   "execution_count": null,
   "metadata": {},
   "outputs": [],
   "source": [
    "!pip install nnabla-rl"
   ]
  },
  {
   "cell_type": "code",
   "execution_count": null,
   "metadata": {},
   "outputs": [],
   "source": [
    "import gym\n",
    "import nnabla as nn\n",
    "\n",
    "import nnabla_rl\n",
    "import nnabla_rl.algorithms as A\n",
    "import nnabla_rl.hooks as H\n",
    "import nnabla_rl.writers as W\n",
    "from nnabla_rl.utils.evaluator import EpisodicEvaluator\n",
    "from nnabla_rl.utils.reproductions import set_global_seed\n",
    "from nnabla_rl.environments.wrappers import NumpyFloat32Env, ScreenRenderEnv"
   ]
  },
  {
   "cell_type": "code",
   "execution_count": null,
   "metadata": {},
   "outputs": [],
   "source": [
    "!git clone https://github.com/sony/nnabla-rl.git\n",
    "!bash nnabla-rl/interactive-demos/package_install.sh\n",
    "%run nnabla-rl/interactive-demos/colab_utils.py"
   ]
  },
  {
   "cell_type": "code",
   "execution_count": null,
   "metadata": {},
   "outputs": [],
   "source": [
    "nn.clear_parameters()"
   ]
  },
  {
   "cell_type": "markdown",
   "metadata": {},
   "source": [
    "## Set up training environment\n",
    "\n",
    "In this example, we will use the \"Pendulum\" environment for training."
   ]
  },
  {
   "cell_type": "code",
   "execution_count": null,
   "metadata": {},
   "outputs": [],
   "source": [
    "def build_env(env_name):\n",
    "    env = gym.make(env_name)\n",
    "    env = NumpyFloat32Env(env)\n",
    "    # env = ScreenRenderEnv(env) # comment out if you run on your local machine\n",
    "    env.seed(0)\n",
    "    return env"
   ]
  },
  {
   "cell_type": "code",
   "execution_count": null,
   "metadata": {},
   "outputs": [],
   "source": [
    "env = build_env(\"Pendulum-v0\")"
   ]
  },
  {
   "cell_type": "markdown",
   "metadata": {},
   "source": [
    "## Setup training algorithm\n",
    "\n",
    "In this example, we will use DDPG as training algorithm."
   ]
  },
  {
   "cell_type": "code",
   "execution_count": null,
   "metadata": {},
   "outputs": [],
   "source": [
    "config = A.DDPGConfig(gpu_id=0, start_timesteps=200)\n",
    "algorithm = A.DDPG(env, config=config)"
   ]
  },
  {
   "cell_type": "markdown",
   "metadata": {},
   "source": [
    "## Hooks (optional)\n",
    "\n",
    "We append RenderHook to visually check the training status. This step is optional.  \n",
    "This hook may slow down the training."
   ]
  },
  {
   "cell_type": "code",
   "execution_count": null,
   "metadata": {},
   "outputs": [],
   "source": [
    "render_hook = RenderHook(env=env)"
   ]
  },
  {
   "cell_type": "code",
   "execution_count": null,
   "metadata": {},
   "outputs": [],
   "source": [
    "algorithm.set_hooks([render_hook])"
   ]
  },
  {
   "cell_type": "markdown",
   "metadata": {},
   "source": [
    "## Start training\n",
    "\n",
    "Congratulations! We are now ready to start the training. Run the below cell and see that the training starts."
   ]
  },
  {
   "cell_type": "code",
   "execution_count": null,
   "metadata": {},
   "outputs": [],
   "source": [
    "try:\n",
    "    algorithm.train(env, total_iterations=10000)\n",
    "except:\n",
    "    env.close()"
   ]
  }
 ],
 "metadata": {
  "accelerator": "GPU",
  "kernelspec": {
   "display_name": "Python 3",
   "language": "python",
   "name": "python3"
  },
  "language_info": {
   "codemirror_mode": {
    "name": "ipython",
    "version": 3
   },
   "file_extension": ".py",
   "mimetype": "text/x-python",
   "name": "python",
   "nbconvert_exporter": "python",
   "pygments_lexer": "ipython3",
   "version": "3.6.12"
  }
 },
 "nbformat": 4,
 "nbformat_minor": 4
}
