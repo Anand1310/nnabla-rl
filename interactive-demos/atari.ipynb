{
 "cells": [
  {
   "cell_type": "markdown",
   "id": "constant-volume",
   "metadata": {},
   "source": [
    "# Atari game training example\n",
    "\n",
    "Example code which trains an agent that play Atari games using DQN algorithm．\n",
    "\n",
    "The training consists of 3 steps.\n",
    "\n",
    "(0. Preparation)\n",
    "1. Setting up the training environment \n",
    "2. Setup the DQN algorithm\n",
    "3. Run the training"
   ]
  },
  {
   "cell_type": "markdown",
   "id": "willing-barrier",
   "metadata": {},
   "source": [
    "## Preparation\n",
    "\n",
    "Let's start by first installing nnabla-rl and importing required packages for training."
   ]
  },
  {
   "cell_type": "code",
   "execution_count": null,
   "id": "agricultural-grill",
   "metadata": {},
   "outputs": [],
   "source": [
    "!pip install nnabla-rl gym[atari]"
   ]
  },
  {
   "cell_type": "code",
   "execution_count": null,
   "id": "according-father",
   "metadata": {},
   "outputs": [],
   "source": [
    "import gym\n",
    "import nnabla as nn\n",
    "\n",
    "import nnabla_rl\n",
    "import nnabla_rl.algorithms as A\n",
    "import nnabla_rl.replay_buffers as RB\n",
    "from nnabla_rl.builders import ReplayBufferBuilder\n",
    "from nnabla_rl.utils.reproductions import build_atari_env, set_global_seed"
   ]
  },
  {
   "cell_type": "code",
   "execution_count": null,
   "id": "related-tongue",
   "metadata": {},
   "outputs": [],
   "source": [
    "!bash package_install.sh"
   ]
  },
  {
   "cell_type": "code",
   "execution_count": null,
   "id": "signed-storm",
   "metadata": {},
   "outputs": [],
   "source": [
    "%run ./colab_utils.py"
   ]
  },
  {
   "cell_type": "code",
   "execution_count": null,
   "id": "bibliographic-seafood",
   "metadata": {},
   "outputs": [],
   "source": [
    "nn.clear_parameters()"
   ]
  },
  {
   "cell_type": "markdown",
   "id": "manufactured-flash",
   "metadata": {},
   "source": [
    "## Setting up the training environment\n",
    "\n",
    "In this notebook, we will train the DQN agent to play Pong."
   ]
  },
  {
   "cell_type": "code",
   "execution_count": null,
   "id": "excessive-perfume",
   "metadata": {},
   "outputs": [],
   "source": [
    "env_name = \"PongNoFrameskip-v4\"\n",
    "# env_name = \"BreakoutNoFrameskip-v4\" # Uncomment out this line if you want to train the agent using Breakout\n",
    "env = build_atari_env(id_or_env=env_name, render=True)"
   ]
  },
  {
   "cell_type": "markdown",
   "id": "lasting-snapshot",
   "metadata": {},
   "source": [
    "## Preparation of Algorithm"
   ]
  },
  {
   "cell_type": "code",
   "execution_count": null,
   "id": "julian-revolution",
   "metadata": {},
   "outputs": [],
   "source": [
    "config = A.DQNConfig(gpu_id=0, replay_buffer_size=100000) # shrinking the size to make sure that the buffer fits in the machine's memory"
   ]
  },
  {
   "cell_type": "code",
   "execution_count": null,
   "id": "indirect-conclusion",
   "metadata": {},
   "outputs": [],
   "source": [
    "dqn = A.DQN(\n",
    "    env,\n",
    "    config=config\n",
    ")"
   ]
  },
  {
   "cell_type": "markdown",
   "id": "verified-armstrong",
   "metadata": {},
   "source": [
    "## Preparation of hook (optional)\n",
    "\n",
    "We append RenderHook to visually check the training status. This step is optional.  \n",
    "This hook may slow down the training."
   ]
  },
  {
   "cell_type": "code",
   "execution_count": null,
   "id": "acquired-marathon",
   "metadata": {},
   "outputs": [],
   "source": [
    "render_hook = RenderHook(env=env)"
   ]
  },
  {
   "cell_type": "code",
   "execution_count": null,
   "id": "short-senegal",
   "metadata": {},
   "outputs": [],
   "source": [
    "dqn.set_hooks([render_hook])"
   ]
  },
  {
   "cell_type": "markdown",
   "id": "dense-pierre",
   "metadata": {},
   "source": [
    "## Run the training\n",
    "\n",
    "Wait (couple of hours) with patient until the DQN agent learns how to play Pong. Good luck!"
   ]
  },
  {
   "cell_type": "code",
   "execution_count": null,
   "id": "original-lancaster",
   "metadata": {},
   "outputs": [],
   "source": [
    "try:\n",
    "    dqn.train(env, total_iterations=5000000)\n",
    "except:\n",
    "    env.close()"
   ]
  },
  {
   "cell_type": "code",
   "execution_count": null,
   "id": "driving-station",
   "metadata": {},
   "outputs": [],
   "source": []
  }
 ],
 "metadata": {
  "kernelspec": {
   "display_name": "Python 3",
   "language": "python",
   "name": "python3"
  },
  "language_info": {
   "codemirror_mode": {
    "name": "ipython",
    "version": 3
   },
   "file_extension": ".py",
   "mimetype": "text/x-python",
   "name": "python",
   "nbconvert_exporter": "python",
   "pygments_lexer": "ipython3",
   "version": "3.6.12"
  }
 },
 "nbformat": 4,
 "nbformat_minor": 5
}
