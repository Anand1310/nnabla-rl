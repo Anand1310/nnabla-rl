{
 "cells": [
  {
   "cell_type": "markdown",
   "id": "detailed-technical",
   "metadata": {},
   "source": [
    "# ReplayBuffer tutorial\n",
    "\n",
    "In this notebook, you will learn how to replace the default replay buffer with different replay buffer implementation following below 4 steps.\n",
    "\n",
    "(0. Preparation of this notebook)\n",
    "1. Setting up the training environment \n",
    "2. Create a ReplayBufferBuilder\n",
    "3. Setup the DDPG algorithm\n",
    "4. Run the training"
   ]
  },
  {
   "cell_type": "markdown",
   "id": "editorial-confusion",
   "metadata": {},
   "source": [
    "## Preparation\n",
    "\n",
    "Let's start by first installing nnabla-rl and importing required packages for training."
   ]
  },
  {
   "cell_type": "code",
   "execution_count": null,
   "id": "according-pleasure",
   "metadata": {},
   "outputs": [],
   "source": [
    "!pip install nnabla-rl"
   ]
  },
  {
   "cell_type": "code",
   "execution_count": null,
   "id": "constant-pursuit",
   "metadata": {},
   "outputs": [],
   "source": [
    "import gym\n",
    "import nnabla as nn\n",
    "from nnabla import functions as NF\n",
    "from nnabla import parametric_functions as NPF\n",
    "from nnabla import solvers as NS\n",
    "\n",
    "import nnabla_rl\n",
    "import nnabla_rl.algorithms as A\n",
    "import nnabla_rl.writers as W\n",
    "import nnabla_rl.functions as RF\n",
    "import nnabla_rl.replay_buffers as RB\n",
    "from nnabla_rl.builders import ReplayBufferBuilder\n",
    "from nnabla_rl.environments.environment_info import EnvironmentInfo\n",
    "from nnabla_rl.environments.wrappers import NumpyFloat32Env, ScreenRenderEnv\n",
    "from nnabla_rl.replay_buffer import ReplayBuffer\n",
    "from nnabla_rl.utils.reproductions import set_global_seed"
   ]
  },
  {
   "cell_type": "code",
   "execution_count": null,
   "id": "interim-anthony",
   "metadata": {},
   "outputs": [],
   "source": [
    "!bash package_install.sh"
   ]
  },
  {
   "cell_type": "code",
   "execution_count": null,
   "id": "animated-seeking",
   "metadata": {},
   "outputs": [],
   "source": [
    "%run ./colab_utils.py"
   ]
  },
  {
   "cell_type": "code",
   "execution_count": null,
   "id": "reflected-standard",
   "metadata": {},
   "outputs": [],
   "source": [
    "nn.clear_parameters()"
   ]
  },
  {
   "cell_type": "markdown",
   "id": "sacred-climate",
   "metadata": {},
   "source": [
    "## Setting up the training environment\n",
    "\n",
    "Set up the \"Pendulum\" environment provided by the OpenAI Gym."
   ]
  },
  {
   "cell_type": "code",
   "execution_count": null,
   "id": "hollywood-carter",
   "metadata": {},
   "outputs": [],
   "source": [
    "def build_env(env_name):\n",
    "    env = gym.make(env_name)\n",
    "    env = NumpyFloat32Env(env)\n",
    "    env = ScreenRenderEnv(env)  # for rendering environment\n",
    "    env.seed(0)\n",
    "    return env"
   ]
  },
  {
   "cell_type": "code",
   "execution_count": null,
   "id": "isolated-association",
   "metadata": {},
   "outputs": [],
   "source": [
    "env_name = \"Pendulum-v0\"\n",
    "env = build_env(env_name)\n",
    "set_global_seed(0)"
   ]
  },
  {
   "cell_type": "markdown",
   "id": "waiting-botswana",
   "metadata": {},
   "source": [
    "## Create a ReplayBufferBuilder\n",
    "\n",
    "The default replay buffer used in DDPG algorithm samples each data uniformly.  \n",
    "We will replace this replay buffer with PrioritizedReplayBuffer which samples data according to the priority(importance) of the data."
   ]
  },
  {
   "cell_type": "code",
   "execution_count": null,
   "id": "judicial-parallel",
   "metadata": {},
   "outputs": [],
   "source": [
    "class PrioritizedReplayBufferBuilder(ReplayBufferBuilder):\n",
    "    def build_replay_buffer(self,  # type: ignore[override]\n",
    "                            env_info: EnvironmentInfo,\n",
    "                            algorithm_config: A.DDPGConfig,\n",
    "                            **kwargs) -> ReplayBuffer:\n",
    "        return RB.PrioritizedReplayBuffer(capacity=algorithm_config.replay_buffer_size)"
   ]
  },
  {
   "cell_type": "markdown",
   "id": "limited-clearance",
   "metadata": {},
   "source": [
    "## Preparation of Algorithm\n",
    "\n",
    "We are almost ready to start the training. Finally, let's setup the DDPG algorithm.  \n",
    "Here, we provide the ReplayBufferBuilder that we just implemented to replace the default buffer. "
   ]
  },
  {
   "cell_type": "code",
   "execution_count": null,
   "id": "timely-government",
   "metadata": {},
   "outputs": [],
   "source": [
    "config = A.DDPGConfig(gpu_id=0, start_timesteps=500)"
   ]
  },
  {
   "cell_type": "code",
   "execution_count": null,
   "id": "domestic-belief",
   "metadata": {},
   "outputs": [],
   "source": [
    "ddpg = A.DDPG(\n",
    "    env_or_env_info=env,\n",
    "    config=config,\n",
    "    replay_buffer_builder=PrioritizedReplayBufferBuilder()\n",
    ")"
   ]
  },
  {
   "cell_type": "markdown",
   "id": "reasonable-lawsuit",
   "metadata": {},
   "source": [
    "## Preparation of Hook (optional)\n",
    "\n",
    "We append RenderHook to visually check the training status.​ This step is optional.  \n",
    "This hook may slow down the training."
   ]
  },
  {
   "cell_type": "code",
   "execution_count": null,
   "id": "higher-casino",
   "metadata": {},
   "outputs": [],
   "source": [
    "render_hook = RenderHook(env=env)"
   ]
  },
  {
   "cell_type": "code",
   "execution_count": null,
   "id": "joined-puppy",
   "metadata": {},
   "outputs": [],
   "source": [
    "ddpg.set_hooks([render_hook])"
   ]
  },
  {
   "cell_type": "markdown",
   "id": "treated-people",
   "metadata": {},
   "source": [
    "## Run the training\n",
    "\n",
    "The training takes time (10-20 min).  \n",
    "After 10-20 min, you will see the agent swinging up the pendulum."
   ]
  },
  {
   "cell_type": "code",
   "execution_count": null,
   "id": "accomplished-debate",
   "metadata": {},
   "outputs": [],
   "source": [
    "ddpg.train(env, total_iterations=50000)"
   ]
  },
  {
   "cell_type": "code",
   "execution_count": null,
   "id": "surprising-cleanup",
   "metadata": {},
   "outputs": [],
   "source": []
  }
 ],
 "metadata": {
  "kernelspec": {
   "display_name": "Python 3",
   "language": "python",
   "name": "python3"
  },
  "language_info": {
   "codemirror_mode": {
    "name": "ipython",
    "version": 3
   },
   "file_extension": ".py",
   "mimetype": "text/x-python",
   "name": "python",
   "nbconvert_exporter": "python",
   "pygments_lexer": "ipython3",
   "version": "3.6.12"
  }
 },
 "nbformat": 4,
 "nbformat_minor": 5
}
